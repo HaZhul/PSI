{
 "cells": [
  {
   "cell_type": "code",
   "execution_count": 63,
   "metadata": {},
   "outputs": [
    {
     "name": "stdout",
     "output_type": "stream",
     "text": [
      "Szacowana prędkość początkowa dla zasięgu rzutu 8.5 to: 17.222222222222218\n"
     ]
    }
   ],
   "source": [
    "import numpy as np\n",
    "import skfuzzy as fuzz\n",
    "from skfuzzy import control as ctrl\n",
    "\n",
    "d = ctrl.Antecedent(np.arange(0, 101, 1), 'zadany_zasieg')\n",
    "alpha = ctrl.Antecedent(np.arange(0, 91, 1), 'kat_rzutu')\n",
    "k = ctrl.Antecedent(np.arange(0, 3.1, 0.1), 'wspolczynnik_oporu')\n",
    "v0 = ctrl.Consequent(np.arange(0, 101, 1), 'predkosc_poczatkowa')\n",
    "\n",
    "d['krotki'] = fuzz.trimf(d.universe, [0, 0, 50])\n",
    "d['sredni'] = fuzz.trimf(d.universe, [25, 50, 75])\n",
    "d['dlugi'] = fuzz.trimf(d.universe, [50, 100, 100])\n",
    "\n",
    "alpha['male'] = fuzz.trimf(alpha.universe, [0, 0, 45])\n",
    "alpha['sredni'] = fuzz.trimf(alpha.universe, [30, 45, 60])\n",
    "alpha['duzy'] = fuzz.trimf(alpha.universe, [45, 90, 90])\n",
    "\n",
    "k['maly'] = fuzz.trimf(k.universe, [0, 0, 1])\n",
    "k['sredni'] = fuzz.trimf(k.universe, [0.5, 1.5, 2.5])\n",
    "k['duzy'] = fuzz.trimf(k.universe, [2.5, 5, 5])\n",
    "\n",
    "v0['mala'] = fuzz.trimf(v0.universe, [0, 0, 50])\n",
    "v0['srednia'] = fuzz.trimf(v0.universe, [25, 50, 75])\n",
    "v0['duza'] = fuzz.trimf(v0.universe, [50, 100, 100])\n",
    "\n",
    "# d - zasieg rzutu, alpha - kat rzutu, k - wsp oporu powietrza\n",
    "rules = [\n",
    "    ctrl.Rule(d['krotki'] & alpha['male'] & k['maly'], v0['srednia']),\n",
    "    ctrl.Rule(d['sredni'] & alpha['sredni'] & k['sredni'], v0['srednia']),\n",
    "    ctrl.Rule(d['dlugi'] & alpha['duzy'] & k['duzy'], v0['duza']),\n",
    "    ctrl.Rule(d['krotki'] & alpha['sredni'] & k['maly'], v0['mala']),\n",
    "    ctrl.Rule(d['sredni'] & alpha['male'] & k['maly'], v0['srednia']),\n",
    "    ctrl.Rule(d['dlugi'] & alpha['duzy'] & k['maly'], v0['srednia'])\n",
    "]\n",
    "\n",
    "model = ctrl.ControlSystem(rules)\n",
    "v0est = ctrl.ControlSystemSimulation(model)\n",
    "\n",
    "def szacuj_predkosc_poczatkowa(zadany_zasieg_wartosc, kat_rzutu_wartosc, wspolczynnik_oporu_wartosc):\n",
    "    v0est.input['zadany_zasieg'] = zadany_zasieg_wartosc\n",
    "    v0est.input['kat_rzutu'] = kat_rzutu_wartosc\n",
    "    v0est.input['wspolczynnik_oporu'] = wspolczynnik_oporu_wartosc\n",
    "    v0est.compute()\n",
    "    return v0est.output['predkosc_poczatkowa']\n",
    "\n",
    "zadany_zasieg_wartosc = 8.5\n",
    "kat_rzutu_wartosc = 45\n",
    "wspolczynnik_oporu_wartosc = 0.2\n",
    "\n",
    "predkosc_pocz = szacuj_predkosc_poczatkowa(zadany_zasieg_wartosc, kat_rzutu_wartosc, wspolczynnik_oporu_wartosc)\n",
    "print(\"Szacowana prędkość początkowa dla zasięgu rzutu\", zadany_zasieg_wartosc, \"to:\", predkosc_pocz)\n"
   ]
  },
  {
   "cell_type": "code",
   "execution_count": 62,
   "metadata": {},
   "outputs": [
    {
     "name": "stdout",
     "output_type": "stream",
     "text": [
      "Prędkość początkowa rzutu ukośnego: 9.465625 m/s\n"
     ]
    }
   ],
   "source": [
    "import math\n",
    "\n",
    "def zasieg_rzutu(V0, alpha, k):\n",
    "    g = 9.81\n",
    "    xmax = (V0**2 * math.sin(math.radians(2 * alpha))) / (g + k * V0)\n",
    "    return xmax\n",
    "\n",
    "# Metoda zlotego podzialu\n",
    "def znajdz_poczatkowa_predkosc(d, alfa, k, epsilon=1):\n",
    "    a = 0.1\n",
    "    b = 100\n",
    "    \n",
    "    while True:\n",
    "        V0 = (a + b) / 2\n",
    "        xmax = zasieg_rzutu(V0, alfa, k)\n",
    "\n",
    "        if abs(xmax - d) < epsilon:\n",
    "            return V0\n",
    "        elif xmax < d:\n",
    "            a = V0\n",
    "        else:\n",
    "            b = V0\n",
    "\n",
    "zasieg = 8.5\n",
    "kat = 45\n",
    "opor_powietrza = 0.2\n",
    "\n",
    "V0 = znajdz_poczatkowa_predkosc(zasieg, kat, opor_powietrza)\n",
    "print(\"Prędkość początkowa rzutu ukośnego:\", V0, \"m/s\")\n"
   ]
  }
 ],
 "metadata": {
  "kernelspec": {
   "display_name": "amumu",
   "language": "python",
   "name": "python3"
  },
  "language_info": {
   "codemirror_mode": {
    "name": "ipython",
    "version": 3
   },
   "file_extension": ".py",
   "mimetype": "text/x-python",
   "name": "python",
   "nbconvert_exporter": "python",
   "pygments_lexer": "ipython3",
   "version": "3.11.8"
  }
 },
 "nbformat": 4,
 "nbformat_minor": 2
}
