{
 "cells": [
  {
   "cell_type": "code",
   "execution_count": 135,
   "metadata": {},
   "outputs": [
    {
     "name": "stdout",
     "output_type": "stream",
     "text": [
      "Szacowana prędkość początkowa dla zasięgu rzutu 10 to: 18.055555555555554\n"
     ]
    }
   ],
   "source": [
    "import numpy as np\n",
    "import skfuzzy as fuzz\n",
    "from skfuzzy import control as ctrl\n",
    "\n",
    "d = ctrl.Antecedent(np.arange(0, 101, 1), 'zadany_zasieg')\n",
    "alpha = ctrl.Antecedent(np.arange(0, 71, 1), 'kat_rzutu')\n",
    "k = ctrl.Antecedent(np.arange(0, 1.2, 0.1), 'wspolczynnik_oporu')\n",
    "v0 = ctrl.Consequent(np.arange(0, 101, 1), 'predkosc_poczatkowa')\n",
    "\n",
    "d['s'] = fuzz.trimf(d.universe, [0, 0, 35])\n",
    "d['m'] = fuzz.trimf(d.universe, [30, 50, 75])\n",
    "d['l'] = fuzz.trimf(d.universe, [70, 100, 100])\n",
    "\n",
    "alpha['s'] = fuzz.trimf(alpha.universe, [0, 0, 30])\n",
    "alpha['m'] = fuzz.trimf(alpha.universe, [20, 35, 50])\n",
    "alpha['l'] = fuzz.trimf(alpha.universe, [40, 70, 70])\n",
    "\n",
    "k['s'] = fuzz.trimf(k.universe, [0, 0, 0.35])\n",
    "k['m'] = fuzz.trimf(k.universe, [0.3, 0.5, 0.8])\n",
    "k['l'] = fuzz.trimf(k.universe, [0.7, 1.2, 1.2])\n",
    "\n",
    "v0['s'] = fuzz.trimf(v0.universe, [0, 0, 50])\n",
    "v0['m'] = fuzz.trimf(v0.universe, [25, 50, 75])\n",
    "v0['l'] = fuzz.trimf(v0.universe, [50, 100, 100])\n",
    "\n",
    "# d - zasieg rzutu, alpha - kat rzutu, k - wsp oporu powietrza\n",
    "rules = [\n",
    "    ctrl.Rule(d['s'] & alpha['s'] & k['s'], v0['s']),\n",
    "    ctrl.Rule(d['s'] & alpha['m'] & k['s'], v0['s']),\n",
    "    ctrl.Rule(d['s'] & alpha['l'] & k['s'], v0['s']),\n",
    "\n",
    "    ctrl.Rule(d['s'] & alpha['s'] & k['m'], v0['m']),\n",
    "    ctrl.Rule(d['s'] & alpha['m'] & k['m'], v0['m']),\n",
    "    ctrl.Rule(d['s'] & alpha['l'] & k['m'], v0['l']),\n",
    "\n",
    "    ctrl.Rule(d['s'] & alpha['s'] & k['l'], v0['m']),\n",
    "    ctrl.Rule(d['s'] & alpha['m'] & k['l'], v0['l']),\n",
    "    ctrl.Rule(d['s'] & alpha['l'] & k['l'], v0['l']),\n",
    "\n",
    "\n",
    "    ctrl.Rule(d['m'] & alpha['s'] & k['s'], v0['s']),\n",
    "    ctrl.Rule(d['m'] & alpha['m'] & k['s'], v0['s']),\n",
    "    ctrl.Rule(d['m'] & alpha['l'] & k['s'], v0['m']),\n",
    "\n",
    "    ctrl.Rule(d['m'] & alpha['s'] & k['m'], v0['m']),\n",
    "    ctrl.Rule(d['m'] & alpha['m'] & k['m'], v0['l']),\n",
    "    ctrl.Rule(d['m'] & alpha['l'] & k['m'], v0['l']),\n",
    "\n",
    "    ctrl.Rule(d['m'] & alpha['s'] & k['l'], v0['l']),\n",
    "    ctrl.Rule(d['m'] & alpha['m'] & k['l'], v0['l']),\n",
    "    ctrl.Rule(d['m'] & alpha['l'] & k['l'], v0['l']),\n",
    "\n",
    "    ctrl.Rule(d['l'] & alpha['s'] & k['s'], v0['s']),\n",
    "    ctrl.Rule(d['l'] & alpha['m'] & k['s'], v0['m']),\n",
    "    ctrl.Rule(d['l'] & alpha['l'] & k['s'], v0['m']),\n",
    "\n",
    "    ctrl.Rule(d['l'] & alpha['s'] & k['m'], v0['l']),\n",
    "    ctrl.Rule(d['l'] & alpha['m'] & k['m'], v0['l']),\n",
    "    ctrl.Rule(d['l'] & alpha['l'] & k['m'], v0['l']),\n",
    "\n",
    "    ctrl.Rule(d['l'] & alpha['s'] & k['l'], v0['l']),\n",
    "    ctrl.Rule(d['l'] & alpha['m'] & k['l'], v0['l']),\n",
    "    ctrl.Rule(d['l'] & alpha['l'] & k['l'], v0['l'])\n",
    "]\n",
    "\n",
    "model = ctrl.ControlSystem(rules)\n",
    "v0est = ctrl.ControlSystemSimulation(model)\n",
    "\n",
    "def predkosc_poczatkowa(zadany_zasieg_wartosc, kat_rzutu_wartosc, wspolczynnik_oporu_wartosc):\n",
    "    v0est.input['zadany_zasieg'] = zadany_zasieg_wartosc\n",
    "    v0est.input['kat_rzutu'] = kat_rzutu_wartosc\n",
    "    v0est.input['wspolczynnik_oporu'] = wspolczynnik_oporu_wartosc\n",
    "    v0est.compute()\n",
    "    return v0est.output['predkosc_poczatkowa']\n",
    "\n",
    "zadany_zasieg_wartosc = 10\n",
    "kat_rzutu_wartosc = 10\n",
    "wspolczynnik_oporu_wartosc = 0.1\n",
    "\n",
    "predkosc_pocz = predkosc_poczatkowa(zadany_zasieg_wartosc, kat_rzutu_wartosc, wspolczynnik_oporu_wartosc)\n",
    "print(\"Szacowana prędkość początkowa dla zasięgu rzutu\", zadany_zasieg_wartosc, \"to:\", predkosc_pocz)\n"
   ]
  },
  {
   "cell_type": "code",
   "execution_count": 134,
   "metadata": {},
   "outputs": [
    {
     "name": "stdout",
     "output_type": "stream",
     "text": [
      "Prędkość początkowa rzutu ukośnego: 18.441015625 m/s\n"
     ]
    }
   ],
   "source": [
    "import math\n",
    "\n",
    "def zasieg_rzutu(V0, alpha, k):\n",
    "    g = 9.81\n",
    "    xmax = (V0**2 * math.sin(math.radians(2 * alpha))) / (g + k * V0)\n",
    "    return xmax\n",
    "\n",
    "# Metoda zlotego podzialu\n",
    "def znajdz_poczatkowa_predkosc(d, alfa, k, epsilon=0.1):\n",
    "    a = 0.1\n",
    "    b = 100\n",
    "    \n",
    "    while True:\n",
    "        V0 = (a + b) / 2\n",
    "        xmax = zasieg_rzutu(V0, alfa, k)\n",
    "\n",
    "        if abs(xmax - d) < epsilon:\n",
    "            return V0\n",
    "        elif xmax < d:\n",
    "            a = V0\n",
    "        else:\n",
    "            b = V0\n",
    "\n",
    "zasieg = 10\n",
    "kat = 10\n",
    "opor_powietrza = 0.1\n",
    "\n",
    "V0 = znajdz_poczatkowa_predkosc(zasieg, kat, opor_powietrza)\n",
    "print(\"Prędkość początkowa rzutu ukośnego:\", V0, \"m/s\")\n"
   ]
  }
 ],
 "metadata": {
  "kernelspec": {
   "display_name": "amumu",
   "language": "python",
   "name": "python3"
  },
  "language_info": {
   "codemirror_mode": {
    "name": "ipython",
    "version": 3
   },
   "file_extension": ".py",
   "mimetype": "text/x-python",
   "name": "python",
   "nbconvert_exporter": "python",
   "pygments_lexer": "ipython3",
   "version": "3.11.8"
  }
 },
 "nbformat": 4,
 "nbformat_minor": 2
}
